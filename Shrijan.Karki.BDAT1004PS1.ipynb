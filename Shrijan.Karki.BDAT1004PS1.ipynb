{
 "cells": [
  {
   "cell_type": "code",
   "execution_count": 1,
   "metadata": {},
   "outputs": [
    {
     "data": {
      "text/plain": [
       "int"
      ]
     },
     "execution_count": 1,
     "metadata": {},
     "output_type": "execute_result"
    }
   ],
   "source": [
    "type(5)"
   ]
  },
  {
   "cell_type": "code",
   "execution_count": 2,
   "metadata": {},
   "outputs": [
    {
     "data": {
      "text/plain": [
       "float"
      ]
     },
     "execution_count": 2,
     "metadata": {},
     "output_type": "execute_result"
    }
   ],
   "source": [
    "type(5.0)"
   ]
  },
  {
   "cell_type": "code",
   "execution_count": 3,
   "metadata": {},
   "outputs": [
    {
     "data": {
      "text/plain": [
       "bool"
      ]
     },
     "execution_count": 3,
     "metadata": {},
     "output_type": "execute_result"
    }
   ],
   "source": [
    "type(5>1)"
   ]
  },
  {
   "cell_type": "code",
   "execution_count": 4,
   "metadata": {},
   "outputs": [
    {
     "data": {
      "text/plain": [
       "str"
      ]
     },
     "execution_count": 4,
     "metadata": {},
     "output_type": "execute_result"
    }
   ],
   "source": [
    "type('5')"
   ]
  },
  {
   "cell_type": "code",
   "execution_count": 5,
   "metadata": {},
   "outputs": [
    {
     "data": {
      "text/plain": [
       "int"
      ]
     },
     "execution_count": 5,
     "metadata": {},
     "output_type": "execute_result"
    }
   ],
   "source": [
    "type(5*2)"
   ]
  },
  {
   "cell_type": "code",
   "execution_count": 6,
   "metadata": {},
   "outputs": [
    {
     "data": {
      "text/plain": [
       "str"
      ]
     },
     "execution_count": 6,
     "metadata": {},
     "output_type": "execute_result"
    }
   ],
   "source": [
    "type('5' * 2)"
   ]
  },
  {
   "cell_type": "code",
   "execution_count": 7,
   "metadata": {},
   "outputs": [
    {
     "data": {
      "text/plain": [
       "'55'"
      ]
     },
     "execution_count": 7,
     "metadata": {},
     "output_type": "execute_result"
    }
   ],
   "source": [
    "'5' * 2"
   ]
  },
  {
   "cell_type": "code",
   "execution_count": 8,
   "metadata": {},
   "outputs": [],
   "source": [
    "import math"
   ]
  },
  {
   "cell_type": "code",
   "execution_count": 9,
   "metadata": {},
   "outputs": [
    {
     "data": {
      "text/plain": [
       "float"
      ]
     },
     "execution_count": 9,
     "metadata": {},
     "output_type": "execute_result"
    }
   ],
   "source": [
    "type(math.pi)"
   ]
  },
  {
   "cell_type": "code",
   "execution_count": 10,
   "metadata": {},
   "outputs": [
    {
     "data": {
      "text/plain": [
       "3.141592653589793"
      ]
     },
     "execution_count": 10,
     "metadata": {},
     "output_type": "execute_result"
    }
   ],
   "source": [
    "math.pi"
   ]
  },
  {
   "cell_type": "code",
   "execution_count": 11,
   "metadata": {},
   "outputs": [
    {
     "data": {
      "text/plain": [
       "str"
      ]
     },
     "execution_count": 11,
     "metadata": {},
     "output_type": "execute_result"
    }
   ],
   "source": [
    "type('5' + '2')"
   ]
  },
  {
   "cell_type": "code",
   "execution_count": 12,
   "metadata": {},
   "outputs": [
    {
     "data": {
      "text/plain": [
       "float"
      ]
     },
     "execution_count": 12,
     "metadata": {},
     "output_type": "execute_result"
    }
   ],
   "source": [
    "type(5/2)"
   ]
  },
  {
   "cell_type": "code",
   "execution_count": 13,
   "metadata": {},
   "outputs": [
    {
     "data": {
      "text/plain": [
       "int"
      ]
     },
     "execution_count": 13,
     "metadata": {},
     "output_type": "execute_result"
    }
   ],
   "source": [
    "type(5//2)"
   ]
  },
  {
   "cell_type": "code",
   "execution_count": 14,
   "metadata": {},
   "outputs": [
    {
     "data": {
      "text/plain": [
       "list"
      ]
     },
     "execution_count": 14,
     "metadata": {},
     "output_type": "execute_result"
    }
   ],
   "source": [
    "type([5,2,1])"
   ]
  },
  {
   "cell_type": "code",
   "execution_count": 15,
   "metadata": {},
   "outputs": [
    {
     "data": {
      "text/plain": [
       "bool"
      ]
     },
     "execution_count": 15,
     "metadata": {},
     "output_type": "execute_result"
    }
   ],
   "source": [
    "type(5 in [1,4,6])"
   ]
  },
  {
   "cell_type": "code",
   "execution_count": 16,
   "metadata": {},
   "outputs": [
    {
     "data": {
      "text/plain": [
       "False"
      ]
     },
     "execution_count": 16,
     "metadata": {},
     "output_type": "execute_result"
    }
   ],
   "source": [
    "5 in [1,4,6]"
   ]
  },
  {
   "cell_type": "code",
   "execution_count": 17,
   "metadata": {},
   "outputs": [
    {
     "name": "stdout",
     "output_type": "stream",
     "text": [
      "34\n"
     ]
    }
   ],
   "source": [
    "word = 'Supercalifragilisticexpialidocious'\n",
    "print(len(word))"
   ]
  },
  {
   "cell_type": "code",
   "execution_count": null,
   "metadata": {},
   "outputs": [],
   "source": []
  },
  {
   "cell_type": "code",
   "execution_count": 19,
   "metadata": {},
   "outputs": [],
   "source": [
    "wordFind = word[18:21]"
   ]
  },
  {
   "cell_type": "code",
   "execution_count": 20,
   "metadata": {},
   "outputs": [
    {
     "name": "stdout",
     "output_type": "stream",
     "text": [
      "ice\n"
     ]
    }
   ],
   "source": [
    "print(wordFind)"
   ]
  },
  {
   "cell_type": "code",
   "execution_count": 21,
   "metadata": {},
   "outputs": [],
   "source": [
    "word1 = 'Supercalifragilisticexpialidocious'"
   ]
  },
  {
   "cell_type": "code",
   "execution_count": 30,
   "metadata": {},
   "outputs": [
    {
     "name": "stdout",
     "output_type": "stream",
     "text": [
      "Supercalifragilisticexpialidocious is the longest word with 34 words.\n"
     ]
    }
   ],
   "source": [
    "word2 = 'Honorificabilitudinitatibus'\n",
    "word3 = 'Bababadalgharaghtakamminarronnkonn'\n",
    "\n",
    "if len(word1) > len(word2) and len(word1) > len(word2):\n",
    "    print(word1 + ' is the longest word with ' + str(len(word1)) + ' words.') #The conditions confirm either word1 is the longest word or not\n",
    "elif len(word2) > len(word3):\n",
    "    print(word2 + ' is the longest word with ' + str(len(word2)) + ' words.') #If word one is not the longest it's either word2 or word3\n",
    "else:\n",
    "    print(word3 + ' is the longest word with ' + str(len(word3)) + ' words.') #If it is not word2 then it is definitely word3"
   ]
  },
  {
   "cell_type": "code",
   "execution_count": 27,
   "metadata": {},
   "outputs": [
    {
     "name": "stdout",
     "output_type": "stream",
     "text": [
      "First composer on the list is Beriloz\n",
      "Last composer on the list is Bernstein\n"
     ]
    }
   ],
   "source": [
    "composerList = ['Beriloz', 'Borodin', 'Brian', 'Bartok', 'Bellini', 'Buxtehude', 'Bernstein' ]\n",
    "print('First composer on the list is', composerList[0]) #0 Refers to the first item on the list.\n",
    "print('Last composer on the list is', composerList[-1]) #-1 Refers to the last item on the list."
   ]
  },
  {
   "cell_type": "code",
   "execution_count": 1,
   "metadata": {},
   "outputs": [
    {
     "name": "stdout",
     "output_type": "stream",
     "text": [
      "True\n",
      "False\n",
      "Both the point do not fall inside the rectangle\n"
     ]
    }
   ],
   "source": [
    "def inside(x,y,x1,y1,x2,y2):\n",
    "    if(x > x1 and x < x2 and y > y1 and y < y2): #The x and y values must be greater than the values of the lower corner and less than the values of the upper corner\n",
    "        return True\n",
    "    else:\n",
    "        return False\n",
    "\n",
    "print(inside(1,1,0,0,2,3))\n",
    "print(inside(-1,-1,0,0,2,3))\n",
    "\n",
    "if (inside(1,1,0.3,0.5,1.1,0.7) and inside(1,1,0.5,0.2,1.1,2)): #If both conditions are satisfied it will return true\n",
    "    print(\"(1,1 lies in both the rectanges)\")\n",
    "else:\n",
    "    print(\"Both the point do not fall inside the rectangle.\") #If either one condition doesnot satisfy then it will return false."
   ]
  },
  {
   "cell_type": "code",
   "execution_count": 72,
   "metadata": {},
   "outputs": [
    {
     "name": "stdout",
     "output_type": "stream",
     "text": [
      "orwaynay\n",
      "osloway\n"
     ]
    }
   ],
   "source": [
    "vowels = ['a','e','i','o','u'] #Defining the Vowels\n",
    "def pig(word):\n",
    "    word = word.lower() #Converting the given word into lower letters\n",
    "    if word[0] in vowels: #Chceks if the first letter is a vowel\n",
    "        word = word + 'way' #Adds way and returns the value\n",
    "        return word\n",
    "    else: #Else implies the first word is a consonant\n",
    "        word = word + word[0] #Appends the first letter of the word \n",
    "        word = word[1:] #Slices the word to omit the first word\n",
    "        word = word + 'ay' #Adds ay at the end and returns the value\n",
    "        return word \n",
    "        \n",
    "        \n",
    "        \n",
    "\n",
    "print(pig('Norway')) #Checking with a consonant\n",
    "print(pig('oslo'))   #Checking with a vowel"
   ]
  },
  {
   "cell_type": "code",
   "execution_count": 54,
   "metadata": {},
   "outputs": [
    {
     "name": "stdout",
     "output_type": "stream",
     "text": [
      "There are 15 patients of blood type A\n",
      "There are 1 patients of blood type B\n",
      "There are 13 patients of blood type AB\n",
      "There are 15 patients of blood type O\n",
      "There are 0 patients of blood type OO\n"
     ]
    }
   ],
   "source": [
    "def bldcount(fileName):\n",
    "    fileOpen = open(fileName, 'r') #Open Bloodlist Textfile\n",
    "    fileRead = fileOpen.read() #Read the file\n",
    "    fileOpen.close() #Close the textfile\n",
    "    newList = fileRead.split() #Split the data and convert it into a list\n",
    "    \n",
    "\n",
    "    #Initially setting all the count values of bloodtypes to 0\n",
    "    count = 0\n",
    "    countA = 0\n",
    "    countB = 0\n",
    "    countAB = 0\n",
    "    countO = 0\n",
    "    countOO = 0\n",
    "    \n",
    "    for i in range(len(newList)): #Loops through all the items\n",
    "        if newList[i] == 'A': #Checks if it belongs to A\n",
    "            countA+=1 #Adds 1 to the total count\n",
    "        if newList[i] == 'B': #Checks if it belongs to B\n",
    "            countB+=1 #Adds 1 to the total count\n",
    "        if newList[i] == 'AB': #Checks if it belongs to AB\n",
    "            countAB+=1 #Adds 1 to the total Count\n",
    "        if newList[i] == 'O': #Checks if it belongs to O\n",
    "            countO+=1 #Adds 1 to the total Count\n",
    "        if newList[i] == 'OO': #Checks if it belongs to OO\n",
    "            countOO+=1 #Adds 1 to the total Count\n",
    "    \n",
    "    print(\"There are {0} patients of blood type A\".format(countA))\n",
    "    print(\"There are {0} patients of blood type B\".format(countB))\n",
    "    print(\"There are {0} patients of blood type AB\".format(countAB))\n",
    "    print(\"There are {0} patients of blood type O\".format(countO))\n",
    "    print(\"There are {0} patients of blood type OO\".format(countOO))\n",
    "        \n",
    "bldcount('bloodlist1.txt')\n",
    "\n"
   ]
  },
  {
   "cell_type": "code",
   "execution_count": 114,
   "metadata": {},
   "outputs": [
    {
     "data": {
      "text/plain": [
       "122.96544"
      ]
     },
     "execution_count": 114,
     "metadata": {},
     "output_type": "execute_result"
    }
   ],
   "source": [
    "fileOpen = open('currencies.txt', 'r') #Opening the textfile for reading\n",
    "fileRead = fileOpen.readlines() #Reading the file line wise\n",
    "curVal = {} #Initialising a dictionary to store currency and their values\n",
    "for line in fileRead: #Looping through individual lines\n",
    "    line = line[:13].split(\"\\t\") #Slicing and splitting them to extract only the letters and the values\n",
    "        \n",
    "    curVal[line[0]] = line[1] #Adding the values in a dictionary \n",
    "        \n",
    "fileOpen.close() #Closing the file\n",
    "\n",
    "\n",
    "def curconv(currency, amount): #Function takes two inputs currency and amount\n",
    "    conversionRate = float(curVal[currency]) #Finds the value from the dictionary and converts it into float since the value is still a string\n",
    "    return conversionRate * amount #Multiplies the amount with the rate and returns the value\n",
    "    \n",
    "    \n",
    "\n",
    "curconv('EUR',100)"
   ]
  },
  {
   "cell_type": "code",
   "execution_count": 113,
   "metadata": {},
   "outputs": [],
   "source": [
    "import math\n",
    "6 + 'a' #Unsupported Operand Type: string and integer cannot be added\n",
    "lst=[0,1,2,3,4,5,6,7,8,9]\n",
    "a = lst[11] #List index out of Range: list only has 10 items \n",
    "math.sqrt(-1.0) #Math domain error: Sqrt of -1 is an imaginary number\n",
    "print(x) #Not defined: x has not been defined what it is.\n",
    "file = open('error.txt',) #No such file or directory"
   ]
  },
  {
   "cell_type": "code",
   "execution_count": 59,
   "metadata": {},
   "outputs": [
    {
     "name": "stdout",
     "output_type": "stream",
     "text": [
      "{'a': 1, 'b': 1, 'c': 0, 'd': 3, 'e': 2, 'f': 0, 'g': 1, 'h': 3, 'i': 0, 'j': 0, 'k': 0, 'l': 1, 'm': 0, 'n': 4, 'o': 4, 'p': 0, 'q': 0, 'r': 2, 's': 2, 't': 2, 'u': 3, 'v': 0, 'w': 1, 'x': 0, 'y': 0, 'z': 0}\n"
     ]
    }
   ],
   "source": [
    "allLetters = 'abcdefghijklmnopqrstuvwxyz' #listing all the Letters\n",
    "distLetters = {} #Creatiing a dictionary to store their current values\n",
    "\n",
    "def clearFunc():\n",
    "    for letters in allLetters: #Emptying the dictionary everytime the function is run\n",
    "        distLetters[letters]= 0\n",
    "    \n",
    "    \n",
    "def frequencies(word):\n",
    "    word = word.lower() #Converts the word to lower\n",
    "    word = word.replace(\" \", \"\") #Removes the spaces between words \n",
    "    \n",
    "    clearFunc() #Clears the dictionary everytime the function is run\n",
    "    \n",
    "    for letters in word: #Iterates through individual characters\n",
    "        if not letters.isdigit(): #If the character is not a digit\n",
    "            distLetters[letters] = distLetters[letters] + 1 # Add 1 to its count\n",
    "            \n",
    "            \n",
    "        \n",
    "    print(distLetters) #Finally print the dictionary\n",
    "    \n",
    "frequencies('The wh33ls on the bus go round and round')"
   ]
  },
  {
   "cell_type": "code",
   "execution_count": 56,
   "metadata": {
    "scrolled": true
   },
   "outputs": [
    {
     "name": "stdout",
     "output_type": "stream",
     "text": [
      "[2, 3, 5, 7, 11, 13, 17, 19, 23, 29, 31, 37, 41, 43, 47, 53, 59, 61, 67, 71, 73, 79, 83, 89, 97, 101, 103, 107, 109, 113, 127, 131, 137, 139, 149, 151, 157, 163, 167, 173, 179, 181, 191, 193, 197, 199, 211, 223, 227, 229, 233, 239, 241, 251, 257, 263, 269, 271, 277, 281, 283, 293, 307, 311, 313, 317, 331, 337, 347, 349, 353, 359, 367]\n"
     ]
    }
   ],
   "source": [
    "primeL=[]\n",
    "def sieve(n):\n",
    "    L = list(range(n+1))[2:] #Range function takes it to n-1 then add 1, then slice the data from 2\n",
    "    \n",
    "    while len(L): #Iterate until the list is empty\n",
    "        temp = [] #Dummy list to store values\n",
    "        primeL.append(L[0]) #Append the first item on the list to primeL\n",
    "        for i in range(len(L))[1:]:\n",
    "            if(L[i]%L[0] != 0): #If the current iteration does not return a remainder                 \n",
    "                temp.append(L[i])   \n",
    "        L = temp #Changing the List to have non-deleted items\n",
    "\n",
    "    print (primeL)\n",
    "                \n",
    "            \n",
    "            \n",
    "sieve(368)"
   ]
  },
  {
   "cell_type": "code",
   "execution_count": 61,
   "metadata": {},
   "outputs": [
    {
     "data": {
      "text/plain": [
       "1.7320508075688772"
      ]
     },
     "execution_count": 61,
     "metadata": {},
     "output_type": "execute_result"
    }
   ],
   "source": [
    "import math\n",
    "def triangleArea(a,b,c):\n",
    "    s=(a+b+c)/2\n",
    "    \n",
    "    areaTriangle = math.sqrt((s-a) * (s-b) * (s-c) * s)\n",
    "    return areaTriangle\n",
    "\n",
    "triangleArea(2,2,2)"
   ]
  },
  {
   "cell_type": "code",
   "execution_count": null,
   "metadata": {},
   "outputs": [],
   "source": []
  }
 ],
 "metadata": {
  "kernelspec": {
   "display_name": "Python 3",
   "language": "python",
   "name": "python3"
  },
  "language_info": {
   "codemirror_mode": {
    "name": "ipython",
    "version": 3
   },
   "file_extension": ".py",
   "mimetype": "text/x-python",
   "name": "python",
   "nbconvert_exporter": "python",
   "pygments_lexer": "ipython3",
   "version": "3.8.3"
  }
 },
 "nbformat": 4,
 "nbformat_minor": 4
}
