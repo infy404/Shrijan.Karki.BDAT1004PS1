{
 "cells": [
  {
   "cell_type": "markdown",
   "metadata": {},
   "source": [
    "Question 1: What data type is each of the following?"
   ]
  },
  {
   "cell_type": "code",
   "execution_count": 47,
   "metadata": {},
   "outputs": [
    {
     "name": "stdout",
     "output_type": "stream",
     "text": [
      "<class 'int'>\n",
      "<class 'float'>\n",
      "<class 'bool'>\n",
      "<class 'str'>\n",
      "<class 'int'>\n",
      "<class 'str'>\n",
      "<class 'str'>\n",
      "<class 'float'>\n",
      "<class 'int'>\n",
      "<class 'list'>\n",
      "<class 'bool'>\n",
      "<class 'float'>\n"
     ]
    }
   ],
   "source": [
    "import math\n",
    "print(type(5))\n",
    "print(type(5.0))\n",
    "print(type(5>1))\n",
    "print(type('5'))\n",
    "print(type(5*2))\n",
    "print(type('5' * 2))\n",
    "print(type('5' + '2'))\n",
    "print(type(5/2))\n",
    "print(type(5//2))\n",
    "print(type([5,2,1]))\n",
    "print(type(5 in [1,4,6]))\n",
    "print(type(math.pi))"
   ]
  },
  {
   "cell_type": "markdown",
   "metadata": {},
   "source": [
    "Question 2: Write (and evaluate) Python expressions that answer these questions: \n",
    "\n",
    "a) How many letters are there in 'Supercalifragilisticexpialidocious'?"
   ]
  },
  {
   "cell_type": "code",
   "execution_count": 48,
   "metadata": {},
   "outputs": [
    {
     "name": "stdout",
     "output_type": "stream",
     "text": [
      "34\n"
     ]
    }
   ],
   "source": [
    "word = 'Supercalifragilisticexpialidocious'\n",
    "print(len(word))"
   ]
  },
  {
   "cell_type": "markdown",
   "metadata": {},
   "source": [
    "b) Does 'Supercalifragilisticexpialidocious' contain 'ice' as substring?"
   ]
  },
  {
   "cell_type": "code",
   "execution_count": 49,
   "metadata": {},
   "outputs": [
    {
     "name": "stdout",
     "output_type": "stream",
     "text": [
      "ice\n"
     ]
    }
   ],
   "source": [
    "wordFind = word[18:21]\n",
    "print(wordFind)"
   ]
  },
  {
   "cell_type": "markdown",
   "metadata": {},
   "source": [
    "c) Which of the following words is the longest:\n",
    "Supercalifragilisticexpialidocious, Honorificabilitudinitatibus, or\n",
    "Bababadalgharaghtakamminarronnkonn? "
   ]
  },
  {
   "cell_type": "code",
   "execution_count": 50,
   "metadata": {},
   "outputs": [
    {
     "name": "stdout",
     "output_type": "stream",
     "text": [
      "Supercalifragilisticexpialidocious is the longest word with 34 words.\n"
     ]
    }
   ],
   "source": [
    "word1 = 'Supercalifragilisticexpialidocious'\n",
    "word2 = 'Honorificabilitudinitatibus'\n",
    "word3 = 'Bababadalgharaghtakamminarronnkonn'\n",
    "\n",
    "if len(word1) > len(word2) and len(word1) > len(word2):\n",
    "    print(word1 + ' is the longest word with ' + str(len(word1)) + ' words.') #The conditions confirm either word1 is the longest word or not\n",
    "elif len(word2) > len(word3):\n",
    "    print(word2 + ' is the longest word with ' + str(len(word2)) + ' words.') #If word one is not the longest it's either word2 or word3\n",
    "else:\n",
    "    print(word3 + ' is the longest word with ' + str(len(word3)) + ' words.') #If it is not word2 then it is definitely word3"
   ]
  },
  {
   "cell_type": "markdown",
   "metadata": {},
   "source": [
    "d) Which composer comes first in the dictionary: 'Berlioz', 'Borodin', 'Brian',\n",
    "'Bartok', 'Bellini', 'Buxtehude', 'Bernstein'. Which one comes last?"
   ]
  },
  {
   "cell_type": "code",
   "execution_count": 51,
   "metadata": {},
   "outputs": [
    {
     "name": "stdout",
     "output_type": "stream",
     "text": [
      "First composer on the list is Bartok\n",
      "Last composer on the list is Buxtehude\n"
     ]
    }
   ],
   "source": [
    "composerList = ['Beriloz', 'Borodin', 'Brian', 'Bartok', 'Bellini', 'Buxtehude', 'Bernstein' ]\n",
    "composerList.sort() #Sorting based on ascending order.\n",
    "print('First composer on the list is', composerList[0]) #0 Refers to the first item on the list.\n",
    "print('Last composer on the list is', composerList[-1]) #-1 Refers to the last item on the list."
   ]
  },
  {
   "cell_type": "markdown",
   "metadata": {},
   "source": [
    "Question 3\n",
    "a. Write a function inside(x,y,x1,y1,x2,y2) that returns True or False\n",
    "depending on whether the point (x,y) lies in the rectangle with lower left\n",
    "corner (x1,y1) and upper right corner (x2,y2)."
   ]
  },
  {
   "cell_type": "code",
   "execution_count": 52,
   "metadata": {},
   "outputs": [
    {
     "name": "stdout",
     "output_type": "stream",
     "text": [
      "True\n",
      "False\n"
     ]
    }
   ],
   "source": [
    "def inside(x,y,x1,y1,x2,y2):\n",
    "    if(x > x1 and x < x2 and y > y1 and y < y2): #The x and y values must be greater than the values of the lower corner and less than the values of the upper corner\n",
    "        return True\n",
    "    else:\n",
    "        return False\n",
    "\n",
    "print(inside(1,1,0,0,2,3))\n",
    "print(inside(-1,-1,0,0,2,3))\n",
    "\n"
   ]
  },
  {
   "cell_type": "markdown",
   "metadata": {},
   "source": [
    "b. Use function inside() from part a. to write an expression that tests whether\n",
    "the point (1,1) lies in both of the following rectangles: one with lower left\n",
    "corner (0.3, 0.5) and upper right corner (1.1, 0.7) and the other with lower\n",
    "left corner (0.5, 0.2) and upper right corner (1.1, 2). "
   ]
  },
  {
   "cell_type": "code",
   "execution_count": 53,
   "metadata": {},
   "outputs": [
    {
     "name": "stdout",
     "output_type": "stream",
     "text": [
      "Both the point do not fall inside the rectangle.\n"
     ]
    }
   ],
   "source": [
    "if (inside(1,1,0.3,0.5,1.1,0.7) and inside(1,1,0.5,0.2,1.1,2)): \n",
    "    '''\n",
    "    If both conditions are true it will return true and execute the if-block, \n",
    "    if either one is false then it will execute the else-block '''    \n",
    "    print(\"(1,1 lies in both the rectanges)\")\n",
    "else:\n",
    "    print(\"Both the point do not fall inside the rectangle.\") "
   ]
  },
  {
   "cell_type": "markdown",
   "metadata": {},
   "source": [
    "Question 4)\n",
    " You can turn a word into pig-Latin using the following two rules (simplified):\n",
    "• If the word starts with a consonant, move that letter to the end and append\n",
    "'ay'. For example, 'happy' becomes 'appyhay' and 'pencil' becomes 'encilpay'.\n",
    "• If the word starts with a vowel, simply append 'way' to the end of the word.\n",
    "For example, 'enter' becomes 'enterway' and 'other' becomes 'otherway' . For\n",
    "our purposes, there are 5 vowels: a, e, i, o, u (so we count y as a consonant).\n",
    "Write a function pig() that takes a word (i.e., a string) as input and returns its pigLatin form. Your function should still work if the input word contains upper case\n",
    "characters. Your output should always be lower case however. "
   ]
  },
  {
   "cell_type": "code",
   "execution_count": 54,
   "metadata": {},
   "outputs": [
    {
     "name": "stdout",
     "output_type": "stream",
     "text": [
      "norwayn\n",
      "osloway\n"
     ]
    }
   ],
   "source": [
    "vowels = ['a','e','i','o','u'] #Defining the Vowels\n",
    "def pig(word):\n",
    "    word = word.lower() #Converting the given word into lower letters\n",
    "    if word[0] in vowels: #Chceks if the first letter is a vowel\n",
    "        word = word + 'way' #Adds way and returns the value\n",
    "        return word\n",
    "    else: #Else implies the first word is a consonant\n",
    "        word = word + word[0] #Appends the first letter of the word \n",
    "        slicedWord = word[1:] #Slices the word to omit the first word\n",
    "        finalWord = slicedWord + 'ay' #Adds ay at the end and returns the value\n",
    "        return word \n",
    "        \n",
    "        \n",
    "        \n",
    "\n",
    "print(pig('Norway')) #Checking with a consonant\n",
    "print(pig('oslo'))   #Checking with a vowel"
   ]
  },
  {
   "cell_type": "markdown",
   "metadata": {},
   "source": [
    "Question 5\n",
    "File bloodtype1.txt records blood-types of patients (A, B, AB, O or OO) at a clinic.\n",
    "Write a function bldcount() that reads the file with name name and reports (i.e.,\n",
    "prints) how many patients there are in each bloodtype.\n"
   ]
  },
  {
   "cell_type": "code",
   "execution_count": 55,
   "metadata": {},
   "outputs": [
    {
     "name": "stdout",
     "output_type": "stream",
     "text": [
      "There are 15 patients of blood type A\n",
      "There are 1 patients of blood type B\n",
      "There are 13 patients of blood type AB\n",
      "There are 15 patients of blood type O\n",
      "There are 0 patients of blood type OO\n"
     ]
    }
   ],
   "source": [
    "def bldcount(fileName):\n",
    "    fileOpen = open(fileName, 'r') #Open Bloodlist Textfile\n",
    "    fileRead = fileOpen.read() #Read the file\n",
    "    fileOpen.close() #Close the textfile\n",
    "    newList = fileRead.split() #Split the data and convert it into a list\n",
    "    \n",
    "\n",
    "    #Initially setting all the count values of bloodtypes to 0\n",
    "    count = 0\n",
    "    countA = 0\n",
    "    countB = 0\n",
    "    countAB = 0\n",
    "    countO = 0\n",
    "    countOO = 0\n",
    "    \n",
    "    for i in range(len(newList)): #Loops for the every item\n",
    "        if newList[i] == 'A': #Checks if it belongs to A\n",
    "            countA+=1 \n",
    "        elif newList[i] == 'B': #Checks if it belongs to B\n",
    "            countB+=1 \n",
    "        elif newList[i] == 'AB': #Checks if it belongs to AB\n",
    "            countAB+=1 \n",
    "        elif newList[i] == 'O': #Checks if it belongs to O\n",
    "            countO+=1 \n",
    "        else: #It must be OO if it doesn't fall in either from above\n",
    "            countOO+=1 \n",
    "    \n",
    "    print(\"There are {0} patients of blood type A\".format(countA))\n",
    "    print(\"There are {0} patients of blood type B\".format(countB))\n",
    "    print(\"There are {0} patients of blood type AB\".format(countAB))\n",
    "    print(\"There are {0} patients of blood type O\".format(countO))\n",
    "    print(\"There are {0} patients of blood type OO\".format(countOO))\n",
    "        \n",
    "bldcount('bloodlist1.txt')\n",
    "\n"
   ]
  },
  {
   "cell_type": "markdown",
   "metadata": {},
   "source": [
    "Question 6\n",
    "Write a function curconv() that takes as input:\n",
    "1. a currency represented using a string (e.g., 'JPY' for the Japanese Yen or\n",
    "'EUR' for the Euro)\n",
    "2. an amount\n",
    "and then converts and returns the amount in US dollars.\n"
   ]
  },
  {
   "cell_type": "code",
   "execution_count": 56,
   "metadata": {},
   "outputs": [
    {
     "data": {
      "text/plain": [
       "122.96544"
      ]
     },
     "execution_count": 56,
     "metadata": {},
     "output_type": "execute_result"
    }
   ],
   "source": [
    "fileOpen = open('currencies.txt', 'r') #Opening the textfile for reading\n",
    "fileRead = fileOpen.readlines() #Reading the file line wise\n",
    "curVal = {} #Initialising a dictionary to store currency and their values\n",
    "for line in fileRead: #Looping through individual lines\n",
    "    line = line[:13].split(\"\\t\") #Slicing and splitting them to extract only the letters and the values\n",
    "        \n",
    "    curVal[line[0]] = line[1] #Line[0] will have the letters like AUD, line[1] will have its corresponding value\n",
    "        \n",
    "fileOpen.close() #Closing the file\n",
    "\n",
    "\n",
    "def curconv(currency, amount): #Function takes two inputs currency and amount\n",
    "    conversionRate = float(curVal[currency]) #Finds the value from the dictionary and converts the string value into float\n",
    "    return conversionRate * amount #Multiplies the amount with the rate and returns the value\n",
    "    \n",
    "    \n",
    "\n",
    "curconv('EUR',100)"
   ]
  },
  {
   "cell_type": "markdown",
   "metadata": {},
   "source": [
    "a) Trying to add incompatible variables, as in adding 6 + ‘a’  : TypeError\n",
    "   \n",
    "b) Referring to the 12th item of a list that has only 10 items : IndexError\n",
    "\n",
    "c) Using a value that is out of range for a function’s input, such as calling math.sqrt(-1.0) : ValueError\n",
    "\n",
    "d) Using an undeclared variable, such as print(x)when x has not been defined : NameError\n",
    "\n",
    "e) Trying to open a file that does not exist, such as mistyping the file name or looking in the wrong directory. : FileNotFoundError"
   ]
  },
  {
   "cell_type": "markdown",
   "metadata": {},
   "source": [
    "Question 8\n",
    "Encryption is the process of hiding the meaning of a text by substituting letters in the message with other letters, according to some system. If the process is successful, no one but the intended recipient can understand the encrypted message. Cryptanalysis refers to attempts to undo the encryption, even if some details of the encryption are unknown (for example, if an encrypted message has been intercepted). The first step of cryptanalysis is often to build up a table of letter frequencies in the encrypted text.\n",
    "Assume that the string letters is already defined as 'abcdefghijklmnopqrstuvwxyz'. Write a function called frequencies() that takes a string as its only parameter, and returns a list of integers, showing the \n",
    "number of times each character appears in the text. Your function may ignore any characters that are not in letters. "
   ]
  },
  {
   "cell_type": "code",
   "execution_count": 57,
   "metadata": {},
   "outputs": [
    {
     "name": "stdout",
     "output_type": "stream",
     "text": [
      "{'a': 1, 'b': 1, 'c': 0, 'd': 3, 'e': 2, 'f': 0, 'g': 1, 'h': 3, 'i': 0, 'j': 0, 'k': 0, 'l': 1, 'm': 0, 'n': 4, 'o': 4, 'p': 0, 'q': 0, 'r': 2, 's': 2, 't': 2, 'u': 3, 'v': 0, 'w': 1, 'x': 0, 'y': 0, 'z': 0}\n"
     ]
    }
   ],
   "source": [
    "allLetters = 'abcdefghijklmnopqrstuvwxyz' #listing all the Letters\n",
    "distLetters = {} #Creatiing a dictionary to store their current values\n",
    "\n",
    "def clearFunc():\n",
    "    for letters in allLetters: #Emptying the dictionary everytime the function is run\n",
    "        distLetters[letters]= 0\n",
    "    \n",
    "    \n",
    "def frequencies(word):\n",
    "    word = word.lower() #Converts the word to lower\n",
    "    word = word.replace(\" \", \"\") #Removes the spaces between words \n",
    "    \n",
    "    clearFunc() #Clears the dictionary everytime the function is run\n",
    "    \n",
    "    for letters in word: #Iterates through individual characters\n",
    "        if not letters.isdigit(): #If the character is not a digit\n",
    "            distLetters[letters] = distLetters[letters] + 1 # Add 1 to its count\n",
    "            \n",
    "            \n",
    "        \n",
    "    print(distLetters) #Finally print the dictionary\n",
    "    \n",
    "frequencies('The wh33ls on the bus go round and round')"
   ]
  },
  {
   "cell_type": "markdown",
   "metadata": {},
   "source": [
    "Question 9\n",
    "The Sieve of Erastophenes is an algorithm -- known to ancient Greeks -- that finds all prime numbers up to a given number n. It does this by first creating a list L from 2 to n and an (initially empty) list primeL. The algorithm then takes the first number in list L (2) and appends it to list primeL, and then removes 2 and all its multiples (4,6,8,10,12, ...) from L. The algorithm then takes the new first number in L (3) and appends it to list primeL, and then removes from L 3 and all its remaining multiples (9,15,21,...). So, in every iteration, the first number of list L is appended to list primeL and then it and its multiples are removed from list L. The iterations stop when list L becomes empty. Write a function sieve() that takes as input a positive integer n, implements the above algorithm, and returns a list of all prime numbers up\n",
    "to n."
   ]
  },
  {
   "cell_type": "code",
   "execution_count": 58,
   "metadata": {
    "scrolled": true
   },
   "outputs": [
    {
     "name": "stdout",
     "output_type": "stream",
     "text": [
      "[2, 3, 5, 7, 11, 13, 17, 19, 23, 29, 31, 37, 41, 43, 47, 53, 59, 61, 67, 71, 73, 79, 83, 89, 97, 101, 103, 107, 109, 113, 127, 131, 137, 139, 149, 151, 157, 163, 167, 173, 179, 181, 191, 193, 197, 199, 211, 223, 227, 229, 233, 239, 241, 251, 257, 263, 269, 271, 277, 281, 283, 293, 307, 311, 313, 317, 331, 337, 347, 349, 353, 359, 367]\n"
     ]
    }
   ],
   "source": [
    "primeL=[]\n",
    "def sieve(n):\n",
    "    L = list(range(n+1))[2:] #Range function takes it to n-1 then add 1, then slice the data from 2\n",
    "    \n",
    "    while len(L): #Iterate until the list is empty\n",
    "        temp = [] #Dummy list to store values\n",
    "        primeL.append(L[0]) #Append the first item on the list to primeL\n",
    "        for i in range(len(L))[1:]:\n",
    "            if(L[i]%L[0] != 0): #If the current iteration does not return a remainder                 \n",
    "                temp.append(L[i])   \n",
    "        L = temp #Changing the List to have non-deleted items\n",
    "\n",
    "    print (primeL)\n",
    "                \n",
    "            \n",
    "            \n",
    "sieve(368)"
   ]
  },
  {
   "cell_type": "markdown",
   "metadata": {},
   "source": [
    "Question 10\n",
    "Implement function triangleArea(a,b,c) that takes as input the lengths of the 3\n",
    "sides of a triangle and returns the area of the triangle. By Heron's formula, the area of a triangle with side lengths a, b, and c is s(s - a)(s -b)(s -c)\n",
    ", where s = (a+b+c)/2. "
   ]
  },
  {
   "cell_type": "code",
   "execution_count": 59,
   "metadata": {},
   "outputs": [
    {
     "data": {
      "text/plain": [
       "1.7320508075688772"
      ]
     },
     "execution_count": 59,
     "metadata": {},
     "output_type": "execute_result"
    }
   ],
   "source": [
    "import math\n",
    "def triangleArea(a,b,c):\n",
    "    s=(a+b+c)/2\n",
    "    \n",
    "    areaTriangle = math.sqrt((s-a) * (s-b) * (s-c) * s)\n",
    "    return areaTriangle\n",
    "\n",
    "triangleArea(2,2,2)"
   ]
  },
  {
   "cell_type": "code",
   "execution_count": null,
   "metadata": {},
   "outputs": [],
   "source": []
  }
 ],
 "metadata": {
  "kernelspec": {
   "display_name": "Python 3",
   "language": "python",
   "name": "python3"
  },
  "language_info": {
   "codemirror_mode": {
    "name": "ipython",
    "version": 3
   },
   "file_extension": ".py",
   "mimetype": "text/x-python",
   "name": "python",
   "nbconvert_exporter": "python",
   "pygments_lexer": "ipython3",
   "version": "3.8.3"
  }
 },
 "nbformat": 4,
 "nbformat_minor": 4
}
